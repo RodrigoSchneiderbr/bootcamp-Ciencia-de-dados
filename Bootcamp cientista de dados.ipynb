{
 "cells": [
  {
   "cell_type": "code",
   "execution_count": 7,
   "id": "bfd6a2c1",
   "metadata": {},
   "outputs": [],
   "source": [
    "from pyspark.sql import SparkSession\n",
    "import pyspark.sql.functions as f\n",
    "import pyspark.sql.types as t"
   ]
  },
  {
   "cell_type": "code",
   "execution_count": 8,
   "id": "2897d6d7",
   "metadata": {},
   "outputs": [],
   "source": [
    "import findspark\n",
    "findspark.init()"
   ]
  },
  {
   "cell_type": "code",
   "execution_count": 9,
   "id": "86f8381b",
   "metadata": {},
   "outputs": [],
   "source": [
    "from pyspark.sql.types import *\n",
    "from pyspark.sql.functions import *"
   ]
  },
  {
   "cell_type": "code",
   "execution_count": null,
   "id": "d3190bc6",
   "metadata": {},
   "outputs": [],
   "source": []
  },
  {
   "cell_type": "code",
   "execution_count": 10,
   "id": "2a9bc724",
   "metadata": {},
   "outputs": [],
   "source": [
    "warehouse_location = 'C:/warehouse_location/'\n",
    "\n",
    "spark = (\n",
    "    SparkSession\n",
    "    .builder\n",
    "    .config(\"spark.driver.memory\", '8g')\n",
    "    .config(\"spark.sql.warehouse.dir\", warehouse_location)\n",
    "    .enableHiveSupport()\n",
    "    .getOrCreate()\n",
    ")"
   ]
  },
  {
   "cell_type": "code",
   "execution_count": 11,
   "id": "198ef4e5",
   "metadata": {},
   "outputs": [
    {
     "name": "stdout",
     "output_type": "stream",
     "text": [
      "+---+\n",
      "| id|\n",
      "+---+\n",
      "|  0|\n",
      "|  1|\n",
      "|  2|\n",
      "|  3|\n",
      "|  4|\n",
      "|  5|\n",
      "|  6|\n",
      "|  7|\n",
      "|  8|\n",
      "|  9|\n",
      "+---+\n",
      "\n"
     ]
    }
   ],
   "source": [
    "df = spark.range(10)\n",
    "df.show()"
   ]
  },
  {
   "cell_type": "code",
   "execution_count": 12,
   "id": "bc2aa5c9",
   "metadata": {},
   "outputs": [],
   "source": [
    "list = (1,\"nome\", 2,\"telefone\")"
   ]
  },
  {
   "cell_type": "code",
   "execution_count": 13,
   "id": "495dc94c",
   "metadata": {},
   "outputs": [
    {
     "name": "stdout",
     "output_type": "stream",
     "text": [
      "(1, 'nome', 2, 'telefone')\n"
     ]
    }
   ],
   "source": [
    "print(list)"
   ]
  },
  {
   "cell_type": "code",
   "execution_count": 14,
   "id": "c0de6e46",
   "metadata": {},
   "outputs": [],
   "source": [
    "df = spark.createDataFrame([('Pedro', 20),('Rodrigo', 30),('Carlos', 40)],[\"nome\",\"idade\"])"
   ]
  },
  {
   "cell_type": "code",
   "execution_count": 15,
   "id": "a06bfb1f",
   "metadata": {
    "scrolled": true
   },
   "outputs": [
    {
     "name": "stdout",
     "output_type": "stream",
     "text": [
      "+-------+-----+\n",
      "|   nome|idade|\n",
      "+-------+-----+\n",
      "|  Pedro|   20|\n",
      "|Rodrigo|   30|\n",
      "| Carlos|   40|\n",
      "+-------+-----+\n",
      "\n"
     ]
    }
   ],
   "source": [
    "df.show()"
   ]
  },
  {
   "cell_type": "code",
   "execution_count": 16,
   "id": "51501805",
   "metadata": {},
   "outputs": [],
   "source": [
    "data_path = (\"/C:/Users/rodri/Desktop/data_science/desafio_final_modulo_2/\")"
   ]
  },
  {
   "cell_type": "code",
   "execution_count": 17,
   "id": "7f14eb25",
   "metadata": {},
   "outputs": [],
   "source": [
    "df_desafio_final = spark.read.csv(\"/C:/Users/rodri/Desktop/data_science/desafio_final_modulo_2/all_stocks_5yr.csv\", header = True, sep =',')"
   ]
  },
  {
   "cell_type": "code",
   "execution_count": 18,
   "id": "e20d3d00",
   "metadata": {},
   "outputs": [
    {
     "data": {
      "text/html": [
       "<div>\n",
       "<style scoped>\n",
       "    .dataframe tbody tr th:only-of-type {\n",
       "        vertical-align: middle;\n",
       "    }\n",
       "\n",
       "    .dataframe tbody tr th {\n",
       "        vertical-align: top;\n",
       "    }\n",
       "\n",
       "    .dataframe thead th {\n",
       "        text-align: right;\n",
       "    }\n",
       "</style>\n",
       "<table border=\"1\" class=\"dataframe\">\n",
       "  <thead>\n",
       "    <tr style=\"text-align: right;\">\n",
       "      <th></th>\n",
       "      <th>date</th>\n",
       "      <th>open</th>\n",
       "      <th>high</th>\n",
       "      <th>low</th>\n",
       "      <th>close</th>\n",
       "      <th>volume</th>\n",
       "      <th>Name</th>\n",
       "    </tr>\n",
       "  </thead>\n",
       "  <tbody>\n",
       "    <tr>\n",
       "      <th>0</th>\n",
       "      <td>2013-02-08</td>\n",
       "      <td>15.07</td>\n",
       "      <td>15.12</td>\n",
       "      <td>14.63</td>\n",
       "      <td>14.75</td>\n",
       "      <td>8407500</td>\n",
       "      <td>AAL</td>\n",
       "    </tr>\n",
       "    <tr>\n",
       "      <th>1</th>\n",
       "      <td>2013-02-11</td>\n",
       "      <td>14.89</td>\n",
       "      <td>15.01</td>\n",
       "      <td>14.26</td>\n",
       "      <td>14.46</td>\n",
       "      <td>8882000</td>\n",
       "      <td>AAL</td>\n",
       "    </tr>\n",
       "    <tr>\n",
       "      <th>2</th>\n",
       "      <td>2013-02-12</td>\n",
       "      <td>14.45</td>\n",
       "      <td>14.51</td>\n",
       "      <td>14.1</td>\n",
       "      <td>14.27</td>\n",
       "      <td>8126000</td>\n",
       "      <td>AAL</td>\n",
       "    </tr>\n",
       "    <tr>\n",
       "      <th>3</th>\n",
       "      <td>2013-02-13</td>\n",
       "      <td>14.3</td>\n",
       "      <td>14.94</td>\n",
       "      <td>14.25</td>\n",
       "      <td>14.66</td>\n",
       "      <td>10259500</td>\n",
       "      <td>AAL</td>\n",
       "    </tr>\n",
       "    <tr>\n",
       "      <th>4</th>\n",
       "      <td>2013-02-14</td>\n",
       "      <td>14.94</td>\n",
       "      <td>14.96</td>\n",
       "      <td>13.16</td>\n",
       "      <td>13.99</td>\n",
       "      <td>31879900</td>\n",
       "      <td>AAL</td>\n",
       "    </tr>\n",
       "    <tr>\n",
       "      <th>5</th>\n",
       "      <td>2013-02-15</td>\n",
       "      <td>13.93</td>\n",
       "      <td>14.61</td>\n",
       "      <td>13.93</td>\n",
       "      <td>14.5</td>\n",
       "      <td>15628000</td>\n",
       "      <td>AAL</td>\n",
       "    </tr>\n",
       "    <tr>\n",
       "      <th>6</th>\n",
       "      <td>2013-02-19</td>\n",
       "      <td>14.33</td>\n",
       "      <td>14.56</td>\n",
       "      <td>14.08</td>\n",
       "      <td>14.26</td>\n",
       "      <td>11354400</td>\n",
       "      <td>AAL</td>\n",
       "    </tr>\n",
       "    <tr>\n",
       "      <th>7</th>\n",
       "      <td>2013-02-20</td>\n",
       "      <td>14.17</td>\n",
       "      <td>14.26</td>\n",
       "      <td>13.15</td>\n",
       "      <td>13.33</td>\n",
       "      <td>14725200</td>\n",
       "      <td>AAL</td>\n",
       "    </tr>\n",
       "    <tr>\n",
       "      <th>8</th>\n",
       "      <td>2013-02-21</td>\n",
       "      <td>13.62</td>\n",
       "      <td>13.95</td>\n",
       "      <td>12.9</td>\n",
       "      <td>13.37</td>\n",
       "      <td>11922100</td>\n",
       "      <td>AAL</td>\n",
       "    </tr>\n",
       "    <tr>\n",
       "      <th>9</th>\n",
       "      <td>2013-02-22</td>\n",
       "      <td>13.57</td>\n",
       "      <td>13.6</td>\n",
       "      <td>13.21</td>\n",
       "      <td>13.57</td>\n",
       "      <td>6071400</td>\n",
       "      <td>AAL</td>\n",
       "    </tr>\n",
       "  </tbody>\n",
       "</table>\n",
       "</div>"
      ],
      "text/plain": [
       "         date   open   high    low  close    volume Name\n",
       "0  2013-02-08  15.07  15.12  14.63  14.75   8407500  AAL\n",
       "1  2013-02-11  14.89  15.01  14.26  14.46   8882000  AAL\n",
       "2  2013-02-12  14.45  14.51   14.1  14.27   8126000  AAL\n",
       "3  2013-02-13   14.3  14.94  14.25  14.66  10259500  AAL\n",
       "4  2013-02-14  14.94  14.96  13.16  13.99  31879900  AAL\n",
       "5  2013-02-15  13.93  14.61  13.93   14.5  15628000  AAL\n",
       "6  2013-02-19  14.33  14.56  14.08  14.26  11354400  AAL\n",
       "7  2013-02-20  14.17  14.26  13.15  13.33  14725200  AAL\n",
       "8  2013-02-21  13.62  13.95   12.9  13.37  11922100  AAL\n",
       "9  2013-02-22  13.57   13.6  13.21  13.57   6071400  AAL"
      ]
     },
     "execution_count": 18,
     "metadata": {},
     "output_type": "execute_result"
    }
   ],
   "source": [
    "df_desafio_final.limit(10).toPandas()"
   ]
  },
  {
   "cell_type": "code",
   "execution_count": 19,
   "id": "5d94cc53",
   "metadata": {},
   "outputs": [
    {
     "data": {
      "text/plain": [
       "619040"
      ]
     },
     "execution_count": 19,
     "metadata": {},
     "output_type": "execute_result"
    }
   ],
   "source": [
    "df_desafio_final.count()"
   ]
  },
  {
   "cell_type": "code",
   "execution_count": 20,
   "id": "ae9af6cb",
   "metadata": {},
   "outputs": [
    {
     "data": {
      "text/plain": [
       "1259"
      ]
     },
     "execution_count": 20,
     "metadata": {},
     "output_type": "execute_result"
    }
   ],
   "source": [
    "df_desafio_final.filter(col(\"Name\") == \"AAPL\").count()"
   ]
  },
  {
   "cell_type": "code",
   "execution_count": 21,
   "id": "6f84c9a4",
   "metadata": {},
   "outputs": [
    {
     "name": "stdout",
     "output_type": "stream",
     "text": [
      "+--------------+\n",
      "|diferent_names|\n",
      "+--------------+\n",
      "|           505|\n",
      "+--------------+\n",
      "\n"
     ]
    }
   ],
   "source": [
    "df_desafio_final.agg(countDistinct(\"Name\").alias(\"diferent_names\"),).show()"
   ]
  },
  {
   "cell_type": "code",
   "execution_count": 22,
   "id": "4d59c63c",
   "metadata": {},
   "outputs": [],
   "source": [
    "df_questao_5 = df_desafio_final.filter(col(\"name\") == \"AAPL\")"
   ]
  },
  {
   "cell_type": "code",
   "execution_count": 23,
   "id": "db725497",
   "metadata": {},
   "outputs": [
    {
     "name": "stdout",
     "output_type": "stream",
     "text": [
      "+----------+------+-------+-----+-----+---------+----+\n",
      "|      date|  open|   high|  low|close|   volume|Name|\n",
      "+----------+------+-------+-----+-----+---------+----+\n",
      "|2016-06-09|  98.5|  99.99|98.46|99.65| 26601354|AAPL|\n",
      "|2014-10-20|98.315|  99.96|98.22|99.76| 77517279|AAPL|\n",
      "|2016-06-07| 99.25|  99.87|98.96|99.03| 22409450|AAPL|\n",
      "|2016-05-25| 98.67|  99.74|98.11|99.62| 38642108|AAPL|\n",
      "|2016-06-08| 99.02|  99.56|98.68|98.94| 20848131|AAPL|\n",
      "|2016-06-01| 99.02|  99.54|98.33|98.46| 29173285|AAPL|\n",
      "|2014-07-29| 99.33|  99.44|98.25|98.38| 43143095|AAPL|\n",
      "|2014-09-05|  98.8|  99.39|98.31|98.97| 58457035|AAPL|\n",
      "|2014-08-18| 98.49|  99.37|97.98|99.16| 47572413|AAPL|\n",
      "|2016-06-10| 98.53|99.3457|98.48|98.83| 31712936|AAPL|\n",
      "|2014-09-08|  99.3|  99.31|98.05|98.36| 46356742|AAPL|\n",
      "|2016-07-22| 99.26|   99.3|98.31|98.66| 28313669|AAPL|\n",
      "|2016-07-15| 98.92|   99.3| 98.5|98.78| 30136990|AAPL|\n",
      "|2014-07-28| 97.82|  99.24|97.55|99.02| 55317689|AAPL|\n",
      "|2014-10-15| 97.97|  99.15|95.18|97.54|100933600|AAPL|\n",
      "|2016-06-13| 98.69|  99.12| 97.1|97.34| 38020494|AAPL|\n",
      "|2016-01-08| 98.55|  99.11|96.76|96.96| 70798016|AAPL|\n",
      "|2016-01-11| 98.97|  99.06|97.34|98.53| 49739377|AAPL|\n",
      "|2014-10-17|  97.5|   99.0|96.81|97.67| 68179688|AAPL|\n",
      "|2016-07-14| 97.39|  98.99|97.32|98.79| 38918997|AAPL|\n",
      "+----------+------+-------+-----+-----+---------+----+\n",
      "only showing top 20 rows\n",
      "\n"
     ]
    }
   ],
   "source": [
    "df_questao_5.orderBy(col(\"high\").desc()).show()"
   ]
  },
  {
   "cell_type": "code",
   "execution_count": 94,
   "id": "91281545",
   "metadata": {},
   "outputs": [
    {
     "data": {
      "text/html": [
       "<div>\n",
       "<style scoped>\n",
       "    .dataframe tbody tr th:only-of-type {\n",
       "        vertical-align: middle;\n",
       "    }\n",
       "\n",
       "    .dataframe tbody tr th {\n",
       "        vertical-align: top;\n",
       "    }\n",
       "\n",
       "    .dataframe thead th {\n",
       "        text-align: right;\n",
       "    }\n",
       "</style>\n",
       "<table border=\"1\" class=\"dataframe\">\n",
       "  <thead>\n",
       "    <tr style=\"text-align: right;\">\n",
       "      <th></th>\n",
       "      <th>max(CAST(high AS FLOAT))</th>\n",
       "    </tr>\n",
       "  </thead>\n",
       "  <tbody>\n",
       "    <tr>\n",
       "      <th>0</th>\n",
       "      <td>180.100006</td>\n",
       "    </tr>\n",
       "  </tbody>\n",
       "</table>\n",
       "</div>"
      ],
      "text/plain": [
       "   max(CAST(high AS FLOAT))\n",
       "0                180.100006"
      ]
     },
     "execution_count": 94,
     "metadata": {},
     "output_type": "execute_result"
    }
   ],
   "source": [
    "df_questao_5.agg(max(col(\"high\").cast(\"float\"))).toPandas()"
   ]
  },
  {
   "cell_type": "code",
   "execution_count": 93,
   "id": "2d65283b",
   "metadata": {},
   "outputs": [
    {
     "name": "stdout",
     "output_type": "stream",
     "text": [
      "+----------+------+-------+-----+-----+---------+----+\n",
      "|      date|  open|   high|  low|close|   volume|Name|\n",
      "+----------+------+-------+-----+-----+---------+----+\n",
      "|2016-06-09|  98.5|  99.99|98.46|99.65| 26601354|AAPL|\n",
      "|2014-10-20|98.315|  99.96|98.22|99.76| 77517279|AAPL|\n",
      "|2016-06-07| 99.25|  99.87|98.96|99.03| 22409450|AAPL|\n",
      "|2016-05-25| 98.67|  99.74|98.11|99.62| 38642108|AAPL|\n",
      "|2016-06-08| 99.02|  99.56|98.68|98.94| 20848131|AAPL|\n",
      "|2016-06-01| 99.02|  99.54|98.33|98.46| 29173285|AAPL|\n",
      "|2014-07-29| 99.33|  99.44|98.25|98.38| 43143095|AAPL|\n",
      "|2014-09-05|  98.8|  99.39|98.31|98.97| 58457035|AAPL|\n",
      "|2014-08-18| 98.49|  99.37|97.98|99.16| 47572413|AAPL|\n",
      "|2016-06-10| 98.53|99.3457|98.48|98.83| 31712936|AAPL|\n",
      "|2014-09-08|  99.3|  99.31|98.05|98.36| 46356742|AAPL|\n",
      "|2016-07-22| 99.26|   99.3|98.31|98.66| 28313669|AAPL|\n",
      "|2016-07-15| 98.92|   99.3| 98.5|98.78| 30136990|AAPL|\n",
      "|2014-07-28| 97.82|  99.24|97.55|99.02| 55317689|AAPL|\n",
      "|2014-10-15| 97.97|  99.15|95.18|97.54|100933600|AAPL|\n",
      "|2016-06-13| 98.69|  99.12| 97.1|97.34| 38020494|AAPL|\n",
      "|2016-01-08| 98.55|  99.11|96.76|96.96| 70798016|AAPL|\n",
      "|2016-01-11| 98.97|  99.06|97.34|98.53| 49739377|AAPL|\n",
      "|2014-10-17|  97.5|   99.0|96.81|97.67| 68179688|AAPL|\n",
      "|2016-07-14| 97.39|  98.99|97.32|98.79| 38918997|AAPL|\n",
      "+----------+------+-------+-----+-----+---------+----+\n",
      "only showing top 20 rows\n",
      "\n"
     ]
    }
   ],
   "source": [
    "df_questao_5.orderBy(col(\"high\").desc()).show()\n"
   ]
  },
  {
   "cell_type": "code",
   "execution_count": 25,
   "id": "462a89ea",
   "metadata": {},
   "outputs": [
    {
     "name": "stdout",
     "output_type": "stream",
     "text": [
      "+----------+------+------+------+------+-------+-----+\n",
      "|      date|  open|  high|   low| close| volume| Name|\n",
      "+----------+------+------+------+------+-------+-----+\n",
      "|2015-03-16|44.785|45.335| 44.69|45.295| 999994|  GPN|\n",
      "|2013-09-26| 23.47| 23.63| 23.26| 23.42| 999993|  CBG|\n",
      "|2017-06-28|176.44|181.25|176.44|179.73| 999984|  AYI|\n",
      "|2013-06-13|  22.1| 22.54| 21.98| 22.49|9999678| SYMC|\n",
      "|2015-07-30| 31.12| 31.78| 31.12| 31.65|9999678|  EXC|\n",
      "|2017-09-08| 79.74|79.875| 77.73| 78.88|9999593|  WMT|\n",
      "|2016-09-20|  84.0| 84.18| 83.11| 83.19| 999958| CTXS|\n",
      "|2014-10-07| 48.15|48.785|48.073| 48.27| 999943|  SCG|\n",
      "|2014-05-28| 25.86|  26.0| 25.71| 25.76| 999941|  LUK|\n",
      "|2015-03-17| 56.89| 56.89| 56.24| 56.47|9999391|  MRK|\n",
      "|2017-09-08|185.83|188.08|185.52|186.76| 999938|  AVB|\n",
      "|2014-12-01|111.36|112.75|110.91|112.11| 999938|  VNO|\n",
      "|2014-06-05| 244.7|249.59| 244.7|249.31|  99993|  MTD|\n",
      "|2014-06-16| 62.02|62.555| 61.65| 62.25| 999927| NTRS|\n",
      "|2017-07-20|147.78|148.32|146.32|146.66| 999916|  SWK|\n",
      "|2017-09-08| 949.7| 950.7|940.01|941.41| 999916|GOOGL|\n",
      "|2017-05-11|104.27|104.44|103.37|104.36| 999914|  COL|\n",
      "|2014-12-10| 71.95|  72.0| 70.43| 70.56| 999911| DISH|\n",
      "|2014-11-07| 79.67| 79.71| 77.81| 78.93| 999904| LRCX|\n",
      "|2017-03-10|156.64|157.57| 156.2|157.56| 999903|  STZ|\n",
      "+----------+------+------+------+------+-------+-----+\n",
      "only showing top 20 rows\n",
      "\n"
     ]
    }
   ],
   "source": [
    "df_desafio_final.orderBy(col(\"volume\").desc()).show()"
   ]
  },
  {
   "cell_type": "code",
   "execution_count": 26,
   "id": "aeb22d05",
   "metadata": {},
   "outputs": [
    {
     "data": {
      "text/plain": [
       "DataFrame[namespace: string]"
      ]
     },
     "execution_count": 26,
     "metadata": {},
     "output_type": "execute_result"
    }
   ],
   "source": [
    "spark.sql(\"show databases\")"
   ]
  },
  {
   "cell_type": "code",
   "execution_count": null,
   "id": "48601e50",
   "metadata": {},
   "outputs": [],
   "source": []
  },
  {
   "cell_type": "code",
   "execution_count": 27,
   "id": "3e390562",
   "metadata": {},
   "outputs": [
    {
     "data": {
      "text/plain": [
       "DataFrame[]"
      ]
     },
     "execution_count": 27,
     "metadata": {},
     "output_type": "execute_result"
    }
   ],
   "source": [
    "spark.sql(\"use desafio\")"
   ]
  },
  {
   "cell_type": "code",
   "execution_count": 28,
   "id": "e9537570",
   "metadata": {},
   "outputs": [
    {
     "data": {
      "text/plain": [
       "DataFrame[database: string, tableName: string, isTemporary: boolean]"
      ]
     },
     "execution_count": 28,
     "metadata": {},
     "output_type": "execute_result"
    }
   ],
   "source": [
    "spark.sql(\"show tables\")"
   ]
  },
  {
   "cell_type": "code",
   "execution_count": 29,
   "id": "7a601878",
   "metadata": {},
   "outputs": [
    {
     "name": "stdout",
     "output_type": "stream",
     "text": [
      "+----------+-------+-------+-------+-------+---------+----+\n",
      "|      date|   open|   high|    low|  close|   volume|Name|\n",
      "+----------+-------+-------+-------+-------+---------+----+\n",
      "|2013-02-08|67.7142|68.4014|66.8928|67.8542|158168416|AAPL|\n",
      "|2013-02-11|68.0714|69.2771|67.6071|68.5614|129029425|AAPL|\n",
      "|2013-02-12|68.5014|68.9114|66.8205|66.8428|151829363|AAPL|\n",
      "|2013-02-13|66.7442|67.6628|66.1742|66.7156|118721995|AAPL|\n",
      "|2013-02-14|66.3599|67.3771|66.2885|66.6556| 88809154|AAPL|\n",
      "|2013-02-15|66.9785|67.1656|65.7028|65.7371| 97924631|AAPL|\n",
      "|2013-02-19|65.8714|66.1042|64.8356|65.7128|108854046|AAPL|\n",
      "|2013-02-20|65.3842|65.3842|64.1142|64.1214|118891367|AAPL|\n",
      "|2013-02-21|63.7142|64.1671|63.2599|63.7228|111596821|AAPL|\n",
      "|2013-02-22|64.1785|64.5142|63.7999|64.4014| 82583823|AAPL|\n",
      "|2013-02-25|64.8356|65.0171|63.2242|63.2571| 92899597|AAPL|\n",
      "|2013-02-26|63.4028|64.5056|62.5228|64.1385|125096657|AAPL|\n",
      "|2013-02-27|64.0614|64.6342|62.9499|63.5099|146674682|AAPL|\n",
      "|2013-02-28|63.4357|63.9814|63.0571|63.0571| 80532382|AAPL|\n",
      "|2013-03-01|62.5714|62.5971|61.4257|61.4957|137899041|AAPL|\n",
      "|2013-03-04|61.1142|61.1714|59.8571|60.0071|145406366|AAPL|\n",
      "|2013-03-05|60.2114|62.1699|60.1071|61.5919|159298020|AAPL|\n",
      "|2013-03-06|62.0728|62.1785|60.6328|60.8088|114903180|AAPL|\n",
      "|2013-03-07|60.6428|61.7157|60.1514|61.5117|116992841|AAPL|\n",
      "|2013-03-08|61.3999|62.2042|61.2299|61.6742| 97854442|AAPL|\n",
      "+----------+-------+-------+-------+-------+---------+----+\n",
      "only showing top 20 rows\n",
      "\n"
     ]
    }
   ],
   "source": [
    "df_questao_AAPL = df_desafio_final.filter(col(\"Name\") == \"AAPL\").show()"
   ]
  },
  {
   "cell_type": "code",
   "execution_count": 61,
   "id": "79f34efc",
   "metadata": {},
   "outputs": [],
   "source": [
    "df_questao = df_desafio_final.select(\"open\",\"close\", expr(\"close - open\").alias(\"Diferenca\"))                  "
   ]
  },
  {
   "cell_type": "code",
   "execution_count": 62,
   "id": "fa074e10",
   "metadata": {},
   "outputs": [
    {
     "name": "stdout",
     "output_type": "stream",
     "text": [
      "+-----+-----+--------------------+\n",
      "| open|close|           Diferenca|\n",
      "+-----+-----+--------------------+\n",
      "|15.07|14.75| -0.3200000000000003|\n",
      "|14.89|14.46| -0.4299999999999997|\n",
      "|14.45|14.27|-0.17999999999999972|\n",
      "| 14.3|14.66| 0.35999999999999943|\n",
      "|14.94|13.99| -0.9499999999999993|\n",
      "|13.93| 14.5|  0.5700000000000003|\n",
      "|14.33|14.26|-0.07000000000000028|\n",
      "|14.17|13.33| -0.8399999999999999|\n",
      "|13.62|13.37|               -0.25|\n",
      "|13.57|13.57|                 0.0|\n",
      "| 13.6|13.02| -0.5800000000000001|\n",
      "|13.14|13.26| 0.11999999999999922|\n",
      "|13.28|13.41| 0.13000000000000078|\n",
      "|13.49|13.43| -0.0600000000000005|\n",
      "|13.37|13.61|  0.2400000000000002|\n",
      "| 13.5| 13.9| 0.40000000000000036|\n",
      "|14.01|14.05|0.040000000000000924|\n",
      "|14.52|14.57| 0.05000000000000071|\n",
      "| 14.7|14.82|   0.120000000000001|\n",
      "|14.99|14.92|-0.07000000000000028|\n",
      "+-----+-----+--------------------+\n",
      "only showing top 20 rows\n",
      "\n"
     ]
    }
   ],
   "source": [
    "df_questao.show()"
   ]
  },
  {
   "cell_type": "code",
   "execution_count": 63,
   "id": "b3574490",
   "metadata": {},
   "outputs": [],
   "source": [
    "df_questao_4 = df_questao.select(col(\"Diferenca\").cast('Float'))"
   ]
  },
  {
   "cell_type": "code",
   "execution_count": 112,
   "id": "ee35d53b",
   "metadata": {},
   "outputs": [
    {
     "name": "stdout",
     "output_type": "stream",
     "text": [
      "+---------+\n",
      "|Diferenca|\n",
      "+---------+\n",
      "|    -0.32|\n",
      "|    -0.43|\n",
      "|    -0.18|\n",
      "|     0.36|\n",
      "|    -0.95|\n",
      "|     0.57|\n",
      "|    -0.07|\n",
      "|    -0.84|\n",
      "|    -0.25|\n",
      "|      0.0|\n",
      "|    -0.58|\n",
      "|     0.12|\n",
      "|     0.13|\n",
      "|    -0.06|\n",
      "|     0.24|\n",
      "|      0.4|\n",
      "|     0.04|\n",
      "|     0.05|\n",
      "|     0.12|\n",
      "|    -0.07|\n",
      "+---------+\n",
      "only showing top 20 rows\n",
      "\n"
     ]
    },
    {
     "data": {
      "text/plain": [
       "619040"
      ]
     },
     "execution_count": 112,
     "metadata": {},
     "output_type": "execute_result"
    }
   ],
   "source": [
    "df_questao_4.show()\n",
    "df_questao_4.count()"
   ]
  },
  {
   "cell_type": "code",
   "execution_count": 65,
   "id": "0dd6f1a6",
   "metadata": {},
   "outputs": [],
   "source": [
    "df_questao_4_maior = df_questao_4.select(\"Diferenca\").where(\"Diferenca > 0\")"
   ]
  },
  {
   "cell_type": "code",
   "execution_count": 66,
   "id": "b265663c",
   "metadata": {},
   "outputs": [
    {
     "data": {
      "text/plain": [
       "318970"
      ]
     },
     "execution_count": 66,
     "metadata": {},
     "output_type": "execute_result"
    }
   ],
   "source": [
    "df_questao_4_maior.count()"
   ]
  },
  {
   "cell_type": "code",
   "execution_count": 82,
   "id": "90684bfd",
   "metadata": {},
   "outputs": [],
   "source": [
    "df_questao_8 = df_desafio_final.groupBy(\"Name\").agg(sum(\"volume\"))"
   ]
  },
  {
   "cell_type": "code",
   "execution_count": 89,
   "id": "4a864862",
   "metadata": {},
   "outputs": [
    {
     "name": "stdout",
     "output_type": "stream",
     "text": [
      "+-----+----------------+\n",
      "| Name|     sum(volume)|\n",
      "+-----+----------------+\n",
      "|  BAC|1.17884953591E11|\n",
      "| AAPL| 6.8046305767E10|\n",
      "|   GE| 5.3023644686E10|\n",
      "|    F| 4.3388129992E10|\n",
      "|   FB| 4.3258314899E10|\n",
      "| MSFT| 4.2641653597E10|\n",
      "|  AMD| 4.0941468586E10|\n",
      "|   MU| 3.8082749687E10|\n",
      "| INTC| 3.6922332801E10|\n",
      "| CSCO| 3.6075826186E10|\n",
      "|  PFE| 3.5527608853E10|\n",
      "|    T| 3.1850598073E10|\n",
      "|  CHK| 3.1421758366E10|\n",
      "|CMCSA| 3.0630585625E10|\n",
      "|  FCX| 2.9648463667E10|\n",
      "|    C| 2.6044628798E10|\n",
      "|  WFC| 2.3305954532E10|\n",
      "|  JPM| 2.0885592857E10|\n",
      "|   RF|   2.06456505E10|\n",
      "| NFLX| 2.0405882026E10|\n",
      "+-----+----------------+\n",
      "only showing top 20 rows\n",
      "\n"
     ]
    }
   ],
   "source": [
    "df_questao_8.orderBy(col(\"sum(volume)\").desc()).show()"
   ]
  },
  {
   "cell_type": "code",
   "execution_count": 156,
   "id": "e903fd88",
   "metadata": {},
   "outputs": [],
   "source": [
    "df_questao_10 = df_desafio_final.select(\"name\",\"high\",\"close\", expr(\"high - close\").alias(\"diferenca\"))"
   ]
  },
  {
   "cell_type": "code",
   "execution_count": 157,
   "id": "7cac0533",
   "metadata": {},
   "outputs": [
    {
     "name": "stdout",
     "output_type": "stream",
     "text": [
      "+----+-----+-----+-------------------+\n",
      "|name| high|close|          diferenca|\n",
      "+----+-----+-----+-------------------+\n",
      "| AAL|15.12|14.75| 0.3699999999999992|\n",
      "| AAL|15.01|14.46| 0.5499999999999989|\n",
      "| AAL|14.51|14.27| 0.2400000000000002|\n",
      "| AAL|14.94|14.66|0.27999999999999936|\n",
      "| AAL|14.96|13.99| 0.9700000000000006|\n",
      "| AAL|14.61| 14.5|0.10999999999999943|\n",
      "| AAL|14.56|14.26| 0.3000000000000007|\n",
      "| AAL|14.26|13.33| 0.9299999999999997|\n",
      "| AAL|13.95|13.37| 0.5800000000000001|\n",
      "| AAL| 13.6|13.57|0.02999999999999936|\n",
      "| AAL|13.76|13.02| 0.7400000000000002|\n",
      "| AAL|13.42|13.26|0.16000000000000014|\n",
      "| AAL|13.62|13.41|0.20999999999999908|\n",
      "| AAL|13.63|13.43|0.20000000000000107|\n",
      "| AAL|13.95|13.61|0.33999999999999986|\n",
      "| AAL|14.07| 13.9|0.16999999999999993|\n",
      "| AAL|14.05|14.05|                0.0|\n",
      "| AAL|14.68|14.57|0.10999999999999943|\n",
      "| AAL|14.93|14.82|0.10999999999999943|\n",
      "| AAL| 15.2|14.92|0.27999999999999936|\n",
      "+----+-----+-----+-------------------+\n",
      "only showing top 20 rows\n",
      "\n"
     ]
    }
   ],
   "source": [
    "df_questao_10.show()"
   ]
  },
  {
   "cell_type": "code",
   "execution_count": 228,
   "id": "d4a07875",
   "metadata": {},
   "outputs": [
    {
     "data": {
      "text/plain": [
       "7420"
      ]
     },
     "execution_count": 228,
     "metadata": {},
     "output_type": "execute_result"
    }
   ],
   "source": [
    "df_questao_10.filter(col(\"diferenca\") == 0.0).count()\n"
   ]
  },
  {
   "cell_type": "code",
   "execution_count": 236,
   "id": "d8105bcb",
   "metadata": {},
   "outputs": [],
   "source": [
    "df_questao_11 = df_desafio_final.select(\"date\",\"Name\",\"open\", \"close\", expr(\"close - open\").alias(\"resposta\"))"
   ]
  },
  {
   "cell_type": "code",
   "execution_count": 237,
   "id": "34fa86b7",
   "metadata": {},
   "outputs": [
    {
     "name": "stdout",
     "output_type": "stream",
     "text": [
      "+----+------+------+---------+\n",
      "|name|  high| close|diferenca|\n",
      "+----+------+------+---------+\n",
      "| AAL| 14.05| 14.05|      0.0|\n",
      "| AAL| 17.47| 17.47|      0.0|\n",
      "| AAL| 26.23| 26.23|      0.0|\n",
      "| AAL| 25.25| 25.25|      0.0|\n",
      "| AAL| 30.02| 30.02|      0.0|\n",
      "| AAL| 38.25| 38.25|      0.0|\n",
      "| AAL| 44.55| 44.55|      0.0|\n",
      "| AAL| 41.51| 41.51|      0.0|\n",
      "| AAL| 42.15| 42.15|      0.0|\n",
      "| AAL| 28.31| 28.31|      0.0|\n",
      "| AAL| 46.44| 46.44|      0.0|\n",
      "|AAPL| 97.24| 97.24|      0.0|\n",
      "|AAPL|100.75|100.75|      0.0|\n",
      "|AAPL|106.74|106.74|      0.0|\n",
      "|AAPL|112.65|112.65|      0.0|\n",
      "|AAPL| 133.0| 133.0|      0.0|\n",
      "|AAPL|124.95|124.95|      0.0|\n",
      "|AAPL|127.62|127.62|      0.0|\n",
      "|AAPL|128.95|128.95|      0.0|\n",
      "|AAPL|129.62|129.62|      0.0|\n",
      "+----+------+------+---------+\n",
      "only showing top 20 rows\n",
      "\n"
     ]
    }
   ],
   "source": [
    "df_questao_conta = df_questao_10.filter(col(\"diferenca\") == 0).show()\n"
   ]
  },
  {
   "cell_type": "code",
   "execution_count": 238,
   "id": "f09e4264",
   "metadata": {},
   "outputs": [
    {
     "name": "stdout",
     "output_type": "stream",
     "text": [
      "+----------+----+-------+-------+------------------+\n",
      "|      date|Name|   open|  close|          resposta|\n",
      "+----------+----+-------+-------+------------------+\n",
      "|2015-08-24|AAPL|  94.87| 103.12|              8.25|\n",
      "|2018-02-06|AAPL| 154.83| 163.03| 8.199999999999989|\n",
      "|2017-05-08|AAPL| 149.03| 153.01|3.9799999999999898|\n",
      "|2014-12-09|AAPL| 110.19| 114.12| 3.930000000000007|\n",
      "|2017-10-27|AAPL| 159.29| 163.05|3.7600000000000193|\n",
      "|2015-12-04|AAPL| 115.29| 119.03| 3.739999999999995|\n",
      "|2017-12-11|AAPL|  169.2| 172.67| 3.469999999999999|\n",
      "|2016-11-16|AAPL|  106.7| 109.99| 3.289999999999992|\n",
      "|2015-07-22|AAPL| 121.99| 125.22| 3.230000000000004|\n",
      "|2015-08-10|AAPL| 116.53| 119.72|3.1899999999999977|\n",
      "|2014-04-28|AAPL|81.8285|84.8699| 3.041399999999996|\n",
      "|2016-09-14|AAPL| 108.73| 111.77| 3.039999999999992|\n",
      "|2014-09-10|AAPL|  98.01|  101.0| 2.989999999999995|\n",
      "|2015-02-23|AAPL| 130.02|  133.0|2.9799999999999898|\n",
      "|2018-01-17|AAPL| 176.15|  179.1|2.9499999999999886|\n",
      "|2017-03-28|AAPL| 140.91|  143.8| 2.890000000000015|\n",
      "|2016-03-01|AAPL|  97.65| 100.53|2.8799999999999955|\n",
      "|2015-04-06|AAPL| 124.47| 127.35|2.8799999999999955|\n",
      "|2015-05-01|AAPL|  126.1| 128.95|2.8499999999999943|\n",
      "|2017-10-30|AAPL| 163.89| 166.72|2.8300000000000125|\n",
      "+----------+----+-------+-------+------------------+\n",
      "only showing top 20 rows\n",
      "\n"
     ]
    }
   ],
   "source": [
    "df_questao_11.filter(col(\"Name\") == \"AAPL\").orderBy(col(\"resposta\").desc()).show()"
   ]
  },
  {
   "cell_type": "code",
   "execution_count": 239,
   "id": "cf0013f7",
   "metadata": {},
   "outputs": [],
   "source": [
    "df_questao_12 = df_desafio_final.filter(col(\"name\") == \"AAPL\")"
   ]
  },
  {
   "cell_type": "code",
   "execution_count": 241,
   "id": "ef553419",
   "metadata": {},
   "outputs": [],
   "source": [
    "df_questao_12_agregado = df_questao_12.groupBy(\"date\").agg(sum(\"volume\").alias(\"total_volume\")) "
   ]
  },
  {
   "cell_type": "code",
   "execution_count": 242,
   "id": "09fb75f0",
   "metadata": {},
   "outputs": [
    {
     "name": "stdout",
     "output_type": "stream",
     "text": [
      "+----------+------------+\n",
      "|      date|total_volume|\n",
      "+----------+------------+\n",
      "|2013-03-14| 7.5834906E7|\n",
      "|2014-05-27| 8.7216605E7|\n",
      "|2015-05-01| 5.8512638E7|\n",
      "|2016-08-17| 2.5355976E7|\n",
      "|2017-12-05| 2.7350154E7|\n",
      "|2014-07-14| 4.2810155E7|\n",
      "|2014-12-11| 4.1471578E7|\n",
      "|2015-02-09| 3.8889797E7|\n",
      "|2015-02-27| 6.2014847E7|\n",
      "|2016-04-22| 3.3683121E7|\n",
      "|2016-08-08|  2.803722E7|\n",
      "|2017-02-24| 2.1776585E7|\n",
      "|2017-05-11| 2.7255058E7|\n",
      "|2017-10-20| 2.3974146E7|\n",
      "|2017-12-22| 1.6349444E7|\n",
      "|2013-08-20| 8.9531771E7|\n",
      "|2015-02-26| 9.1287529E7|\n",
      "|2015-11-20| 3.4287096E7|\n",
      "|2016-07-06|  3.094909E7|\n",
      "|2013-11-08| 6.9829543E7|\n",
      "+----------+------------+\n",
      "only showing top 20 rows\n",
      "\n"
     ]
    }
   ],
   "source": [
    "df_questao_12_agregado.show()"
   ]
  },
  {
   "cell_type": "code",
   "execution_count": 245,
   "id": "612126f0",
   "metadata": {},
   "outputs": [
    {
     "name": "stdout",
     "output_type": "stream",
     "text": [
      "+-------------------+\n",
      "|              media|\n",
      "+-------------------+\n",
      "|5.404789973550437E7|\n",
      "+-------------------+\n",
      "\n"
     ]
    }
   ],
   "source": [
    "df_questao_12_agregado.agg(mean(\"total_volume\").alias(\"media\")).show()"
   ]
  },
  {
   "cell_type": "code",
   "execution_count": 259,
   "id": "a10ac592",
   "metadata": {},
   "outputs": [],
   "source": [
    "df_questao_14 = df_desafio_final.groupBy(\"Name\").agg(sum(\"volume\").alias(\"total\"))"
   ]
  },
  {
   "cell_type": "code",
   "execution_count": 260,
   "id": "a6208d5e",
   "metadata": {},
   "outputs": [
    {
     "name": "stdout",
     "output_type": "stream",
     "text": [
      "+----+-------------+\n",
      "|Name|        total|\n",
      "+----+-------------+\n",
      "|ALXN|2.218905439E9|\n",
      "| GIS|4.199205873E9|\n",
      "|   K|2.584755135E9|\n",
      "| LEN|4.326392632E9|\n",
      "|SPGI|1.664739625E9|\n",
      "| AIV|1.509190118E9|\n",
      "| AVY| 9.57891856E8|\n",
      "|BF.B| 1.22941214E9|\n",
      "| MMM| 2.89905181E9|\n",
      "| PKI| 9.91708946E8|\n",
      "| PPG|2.016504601E9|\n",
      "|  RF|2.06456505E10|\n",
      "| AXP|6.009726906E9|\n",
      "|  CI|2.057460556E9|\n",
      "| IRM|2.081611031E9|\n",
      "| WEC|2.235445802E9|\n",
      "|INFO|1.320831742E9|\n",
      "| PFG|1.713446138E9|\n",
      "|  PM|5.825918348E9|\n",
      "| SNA| 5.30283843E8|\n",
      "+----+-------------+\n",
      "only showing top 20 rows\n",
      "\n"
     ]
    }
   ],
   "source": [
    "df_questao_14.show()"
   ]
  },
  {
   "cell_type": "code",
   "execution_count": 266,
   "id": "c72b9e5f",
   "metadata": {},
   "outputs": [
    {
     "name": "stdout",
     "output_type": "stream",
     "text": [
      "+----+------------+\n",
      "|Name|       total|\n",
      "+----+------------+\n",
      "|APTV| 9.2947779E7|\n",
      "| BHF|1.44878392E8|\n",
      "| MTD|2.14489754E8|\n",
      "| AZO|3.97585127E8|\n",
      "|WLTW| 4.1473459E8|\n",
      "| HII|4.18791148E8|\n",
      "| DXC|4.24529395E8|\n",
      "|  RE|4.34037215E8|\n",
      "| ESS|4.77004832E8|\n",
      "| SNA|5.30283843E8|\n",
      "| FRT|5.31047903E8|\n",
      "|ANSS|5.52950012E8|\n",
      "| IFF|5.58773791E8|\n",
      "| AMG|5.68888091E8|\n",
      "| COO|5.69985137E8|\n",
      "|  IT|5.78515652E8|\n",
      "| ROP| 5.7947094E8|\n",
      "| AYI|6.08654295E8|\n",
      "| FTV|6.10590073E8|\n",
      "|BHGE|6.28313042E8|\n",
      "+----+------------+\n",
      "only showing top 20 rows\n",
      "\n"
     ]
    }
   ],
   "source": [
    "df_questao_14.orderBy(\"total\").show()"
   ]
  },
  {
   "cell_type": "code",
   "execution_count": 267,
   "id": "ffb8d0f5",
   "metadata": {},
   "outputs": [],
   "source": [
    "df_questao_15 = df_desafio_final.select(\"open\", \"high\", expr(\"high- open\").alias(\"resposta\"))"
   ]
  },
  {
   "cell_type": "code",
   "execution_count": 268,
   "id": "a38be681",
   "metadata": {},
   "outputs": [
    {
     "name": "stdout",
     "output_type": "stream",
     "text": [
      "+-----+-----+--------------------+\n",
      "| open| high|            resposta|\n",
      "+-----+-----+--------------------+\n",
      "|15.07|15.12|0.049999999999998934|\n",
      "|14.89|15.01| 0.11999999999999922|\n",
      "|14.45|14.51|  0.0600000000000005|\n",
      "| 14.3|14.94|  0.6399999999999988|\n",
      "|14.94|14.96| 0.02000000000000135|\n",
      "|13.93|14.61|  0.6799999999999997|\n",
      "|14.33|14.56| 0.23000000000000043|\n",
      "|14.17|14.26| 0.08999999999999986|\n",
      "|13.62|13.95| 0.33000000000000007|\n",
      "|13.57| 13.6| 0.02999999999999936|\n",
      "| 13.6|13.76| 0.16000000000000014|\n",
      "|13.14|13.42| 0.27999999999999936|\n",
      "|13.28|13.62| 0.33999999999999986|\n",
      "|13.49|13.63| 0.14000000000000057|\n",
      "|13.37|13.95|  0.5800000000000001|\n",
      "| 13.5|14.07|  0.5700000000000003|\n",
      "|14.01|14.05|0.040000000000000924|\n",
      "|14.52|14.68| 0.16000000000000014|\n",
      "| 14.7|14.93| 0.23000000000000043|\n",
      "|14.99| 15.2| 0.20999999999999908|\n",
      "+-----+-----+--------------------+\n",
      "only showing top 20 rows\n",
      "\n"
     ]
    }
   ],
   "source": [
    "df_questao_15.show()"
   ]
  },
  {
   "cell_type": "code",
   "execution_count": 269,
   "id": "85e69630",
   "metadata": {},
   "outputs": [
    {
     "data": {
      "text/plain": [
       "22346"
      ]
     },
     "execution_count": 269,
     "metadata": {},
     "output_type": "execute_result"
    }
   ],
   "source": [
    "df_questao_15.filter(col(\"resposta\") == 0.0).count()\n"
   ]
  },
  {
   "cell_type": "code",
   "execution_count": null,
   "id": "0266ad94",
   "metadata": {},
   "outputs": [],
   "source": []
  }
 ],
 "metadata": {
  "kernelspec": {
   "display_name": "Python 3",
   "language": "python",
   "name": "python3"
  },
  "language_info": {
   "codemirror_mode": {
    "name": "ipython",
    "version": 3
   },
   "file_extension": ".py",
   "mimetype": "text/x-python",
   "name": "python",
   "nbconvert_exporter": "python",
   "pygments_lexer": "ipython3",
   "version": "3.8.8"
  }
 },
 "nbformat": 4,
 "nbformat_minor": 5
}
