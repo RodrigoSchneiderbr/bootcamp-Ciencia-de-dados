{
 "cells": [
  {
   "cell_type": "code",
   "execution_count": 2,
   "id": "b0a88407",
   "metadata": {},
   "outputs": [],
   "source": [
    "import findspark\n",
    "findspark.init()"
   ]
  },
  {
   "cell_type": "code",
   "execution_count": 3,
   "id": "866a7add",
   "metadata": {},
   "outputs": [],
   "source": [
    "from pyspark.sql.types import *\n",
    "from pyspark.sql.functions import *"
   ]
  },
  {
   "cell_type": "code",
   "execution_count": 4,
   "id": "f1e20d2a",
   "metadata": {},
   "outputs": [],
   "source": [
    "from pyspark.sql import SparkSession\n",
    "import pyspark.sql.functions as f\n",
    "import pyspark.sql.types as t"
   ]
  },
  {
   "cell_type": "code",
   "execution_count": 5,
   "id": "f6b7c146",
   "metadata": {},
   "outputs": [],
   "source": [
    "spark = (\n",
    "    SparkSession\n",
    "    .builder\n",
    "    .config(\"spark.driver.memory\", '8g')\n",
    "    .enableHiveSupport()\n",
    "    .getOrCreate()\n",
    ")"
   ]
  },
  {
   "cell_type": "code",
   "execution_count": 6,
   "id": "ae808665",
   "metadata": {},
   "outputs": [],
   "source": [
    "df_desafio_final_2 = spark.read.csv(\"C:/Users/rodri/Desktop/data_science/desafio_final_modulo_2/stroke_data.csv\", inferSchema = True, header = True, sep =',')"
   ]
  },
  {
   "cell_type": "code",
   "execution_count": 20,
   "id": "d8cc1753",
   "metadata": {},
   "outputs": [
    {
     "data": {
      "text/html": [
       "<div>\n",
       "<style scoped>\n",
       "    .dataframe tbody tr th:only-of-type {\n",
       "        vertical-align: middle;\n",
       "    }\n",
       "\n",
       "    .dataframe tbody tr th {\n",
       "        vertical-align: top;\n",
       "    }\n",
       "\n",
       "    .dataframe thead th {\n",
       "        text-align: right;\n",
       "    }\n",
       "</style>\n",
       "<table border=\"1\" class=\"dataframe\">\n",
       "  <thead>\n",
       "    <tr style=\"text-align: right;\">\n",
       "      <th></th>\n",
       "      <th>id</th>\n",
       "      <th>gender</th>\n",
       "      <th>age</th>\n",
       "      <th>hypertension</th>\n",
       "      <th>heart_disease</th>\n",
       "      <th>ever_married</th>\n",
       "      <th>work_type</th>\n",
       "      <th>Residence_type</th>\n",
       "      <th>avg_glucose_level</th>\n",
       "      <th>bmi</th>\n",
       "      <th>smoking_status</th>\n",
       "      <th>stroke</th>\n",
       "    </tr>\n",
       "  </thead>\n",
       "  <tbody>\n",
       "    <tr>\n",
       "      <th>0</th>\n",
       "      <td>29502</td>\n",
       "      <td>Female</td>\n",
       "      <td>18.0</td>\n",
       "      <td>0</td>\n",
       "      <td>0</td>\n",
       "      <td>No</td>\n",
       "      <td>Private</td>\n",
       "      <td>Urban</td>\n",
       "      <td>94.19</td>\n",
       "      <td>12.12</td>\n",
       "      <td>smokes</td>\n",
       "      <td>1</td>\n",
       "    </tr>\n",
       "    <tr>\n",
       "      <th>1</th>\n",
       "      <td>42473</td>\n",
       "      <td>Male</td>\n",
       "      <td>58.0</td>\n",
       "      <td>1</td>\n",
       "      <td>0</td>\n",
       "      <td>Yes</td>\n",
       "      <td>Private</td>\n",
       "      <td>Rural</td>\n",
       "      <td>154.24</td>\n",
       "      <td>33.70</td>\n",
       "      <td>None</td>\n",
       "      <td>0</td>\n",
       "    </tr>\n",
       "    <tr>\n",
       "      <th>2</th>\n",
       "      <td>30168</td>\n",
       "      <td>Female</td>\n",
       "      <td>36.0</td>\n",
       "      <td>0</td>\n",
       "      <td>0</td>\n",
       "      <td>Yes</td>\n",
       "      <td>Govt_job</td>\n",
       "      <td>Urban</td>\n",
       "      <td>72.63</td>\n",
       "      <td>24.70</td>\n",
       "      <td>smokes</td>\n",
       "      <td>0</td>\n",
       "    </tr>\n",
       "    <tr>\n",
       "      <th>3</th>\n",
       "      <td>24300</td>\n",
       "      <td>Female</td>\n",
       "      <td>62.0</td>\n",
       "      <td>0</td>\n",
       "      <td>0</td>\n",
       "      <td>Yes</td>\n",
       "      <td>Self-employed</td>\n",
       "      <td>Rural</td>\n",
       "      <td>85.52</td>\n",
       "      <td>31.20</td>\n",
       "      <td>formerly smoked</td>\n",
       "      <td>0</td>\n",
       "    </tr>\n",
       "    <tr>\n",
       "      <th>4</th>\n",
       "      <td>38829</td>\n",
       "      <td>Female</td>\n",
       "      <td>82.0</td>\n",
       "      <td>0</td>\n",
       "      <td>0</td>\n",
       "      <td>Yes</td>\n",
       "      <td>Private</td>\n",
       "      <td>Rural</td>\n",
       "      <td>59.32</td>\n",
       "      <td>33.20</td>\n",
       "      <td>smokes</td>\n",
       "      <td>1</td>\n",
       "    </tr>\n",
       "    <tr>\n",
       "      <th>...</th>\n",
       "      <td>...</td>\n",
       "      <td>...</td>\n",
       "      <td>...</td>\n",
       "      <td>...</td>\n",
       "      <td>...</td>\n",
       "      <td>...</td>\n",
       "      <td>...</td>\n",
       "      <td>...</td>\n",
       "      <td>...</td>\n",
       "      <td>...</td>\n",
       "      <td>...</td>\n",
       "      <td>...</td>\n",
       "    </tr>\n",
       "    <tr>\n",
       "      <th>67130</th>\n",
       "      <td>44210</td>\n",
       "      <td>Male</td>\n",
       "      <td>18.0</td>\n",
       "      <td>0</td>\n",
       "      <td>0</td>\n",
       "      <td>No</td>\n",
       "      <td>Private</td>\n",
       "      <td>Urban</td>\n",
       "      <td>109.06</td>\n",
       "      <td>22.10</td>\n",
       "      <td>smokes</td>\n",
       "      <td>1</td>\n",
       "    </tr>\n",
       "    <tr>\n",
       "      <th>67131</th>\n",
       "      <td>29930</td>\n",
       "      <td>Female</td>\n",
       "      <td>29.0</td>\n",
       "      <td>0</td>\n",
       "      <td>0</td>\n",
       "      <td>Yes</td>\n",
       "      <td>Private</td>\n",
       "      <td>Urban</td>\n",
       "      <td>73.02</td>\n",
       "      <td>32.10</td>\n",
       "      <td>None</td>\n",
       "      <td>0</td>\n",
       "    </tr>\n",
       "    <tr>\n",
       "      <th>67132</th>\n",
       "      <td>67039</td>\n",
       "      <td>Female</td>\n",
       "      <td>24.0</td>\n",
       "      <td>0</td>\n",
       "      <td>0</td>\n",
       "      <td>No</td>\n",
       "      <td>Private</td>\n",
       "      <td>Urban</td>\n",
       "      <td>141.18</td>\n",
       "      <td>23.30</td>\n",
       "      <td>smokes</td>\n",
       "      <td>1</td>\n",
       "    </tr>\n",
       "    <tr>\n",
       "      <th>67133</th>\n",
       "      <td>22533</td>\n",
       "      <td>Female</td>\n",
       "      <td>77.0</td>\n",
       "      <td>0</td>\n",
       "      <td>0</td>\n",
       "      <td>Yes</td>\n",
       "      <td>Self-employed</td>\n",
       "      <td>Urban</td>\n",
       "      <td>199.71</td>\n",
       "      <td>36.20</td>\n",
       "      <td>formerly smoked</td>\n",
       "      <td>1</td>\n",
       "    </tr>\n",
       "    <tr>\n",
       "      <th>67134</th>\n",
       "      <td>20054</td>\n",
       "      <td>Male</td>\n",
       "      <td>76.0</td>\n",
       "      <td>0</td>\n",
       "      <td>1</td>\n",
       "      <td>Yes</td>\n",
       "      <td>Self-employed</td>\n",
       "      <td>Urban</td>\n",
       "      <td>202.96</td>\n",
       "      <td>31.80</td>\n",
       "      <td>formerly smoked</td>\n",
       "      <td>1</td>\n",
       "    </tr>\n",
       "  </tbody>\n",
       "</table>\n",
       "<p>67135 rows × 12 columns</p>\n",
       "</div>"
      ],
      "text/plain": [
       "          id  gender   age  hypertension  heart_disease ever_married  \\\n",
       "0      29502  Female  18.0             0              0           No   \n",
       "1      42473    Male  58.0             1              0          Yes   \n",
       "2      30168  Female  36.0             0              0          Yes   \n",
       "3      24300  Female  62.0             0              0          Yes   \n",
       "4      38829  Female  82.0             0              0          Yes   \n",
       "...      ...     ...   ...           ...            ...          ...   \n",
       "67130  44210    Male  18.0             0              0           No   \n",
       "67131  29930  Female  29.0             0              0          Yes   \n",
       "67132  67039  Female  24.0             0              0           No   \n",
       "67133  22533  Female  77.0             0              0          Yes   \n",
       "67134  20054    Male  76.0             0              1          Yes   \n",
       "\n",
       "           work_type Residence_type  avg_glucose_level    bmi  \\\n",
       "0            Private          Urban              94.19  12.12   \n",
       "1            Private          Rural             154.24  33.70   \n",
       "2           Govt_job          Urban              72.63  24.70   \n",
       "3      Self-employed          Rural              85.52  31.20   \n",
       "4            Private          Rural              59.32  33.20   \n",
       "...              ...            ...                ...    ...   \n",
       "67130        Private          Urban             109.06  22.10   \n",
       "67131        Private          Urban              73.02  32.10   \n",
       "67132        Private          Urban             141.18  23.30   \n",
       "67133  Self-employed          Urban             199.71  36.20   \n",
       "67134  Self-employed          Urban             202.96  31.80   \n",
       "\n",
       "        smoking_status  stroke  \n",
       "0               smokes       1  \n",
       "1                 None       0  \n",
       "2               smokes       0  \n",
       "3      formerly smoked       0  \n",
       "4               smokes       1  \n",
       "...                ...     ...  \n",
       "67130           smokes       1  \n",
       "67131             None       0  \n",
       "67132           smokes       1  \n",
       "67133  formerly smoked       1  \n",
       "67134  formerly smoked       1  \n",
       "\n",
       "[67135 rows x 12 columns]"
      ]
     },
     "execution_count": 20,
     "metadata": {},
     "output_type": "execute_result"
    }
   ],
   "source": [
    "df_desafio_final_2.toPandas()"
   ]
  },
  {
   "cell_type": "code",
   "execution_count": 9,
   "id": "e7330ab0",
   "metadata": {},
   "outputs": [
    {
     "data": {
      "text/plain": [
       "67135"
      ]
     },
     "execution_count": 9,
     "metadata": {},
     "output_type": "execute_result"
    }
   ],
   "source": [
    "#questão 1\n",
    "df_desafio_final_2.count()"
   ]
  },
  {
   "cell_type": "code",
   "execution_count": 10,
   "id": "708f95c5",
   "metadata": {},
   "outputs": [
    {
     "name": "stdout",
     "output_type": "stream",
     "text": [
      "root\n",
      " |-- id: integer (nullable = true)\n",
      " |-- gender: string (nullable = true)\n",
      " |-- age: double (nullable = true)\n",
      " |-- hypertension: integer (nullable = true)\n",
      " |-- heart_disease: integer (nullable = true)\n",
      " |-- ever_married: string (nullable = true)\n",
      " |-- work_type: string (nullable = true)\n",
      " |-- Residence_type: string (nullable = true)\n",
      " |-- avg_glucose_level: double (nullable = true)\n",
      " |-- bmi: double (nullable = true)\n",
      " |-- smoking_status: string (nullable = true)\n",
      " |-- stroke: integer (nullable = true)\n",
      "\n"
     ]
    }
   ],
   "source": [
    "#questão 2\n",
    "df_desafio_final_2.printSchema()"
   ]
  },
  {
   "cell_type": "code",
   "execution_count": 11,
   "id": "3c45927e",
   "metadata": {},
   "outputs": [
    {
     "data": {
      "text/plain": [
       "40287"
      ]
     },
     "execution_count": 11,
     "metadata": {},
     "output_type": "execute_result"
    }
   ],
   "source": [
    "#questao 3\n",
    "df_desafio_final_2.filter(col(\"stroke\") == 1).count()"
   ]
  },
  {
   "cell_type": "code",
   "execution_count": 12,
   "id": "19bdae1e",
   "metadata": {},
   "outputs": [
    {
     "data": {
      "text/plain": [
       "26848"
      ]
     },
     "execution_count": 12,
     "metadata": {},
     "output_type": "execute_result"
    }
   ],
   "source": [
    "df_desafio_final_2.filter(col(\"stroke\") == 0).count()"
   ]
  },
  {
   "cell_type": "code",
   "execution_count": 12,
   "id": "b7a8e612",
   "metadata": {},
   "outputs": [
    {
     "data": {
      "text/html": [
       "<div>\n",
       "<style scoped>\n",
       "    .dataframe tbody tr th:only-of-type {\n",
       "        vertical-align: middle;\n",
       "    }\n",
       "\n",
       "    .dataframe tbody tr th {\n",
       "        vertical-align: top;\n",
       "    }\n",
       "\n",
       "    .dataframe thead th {\n",
       "        text-align: right;\n",
       "    }\n",
       "</style>\n",
       "<table border=\"1\" class=\"dataframe\">\n",
       "  <thead>\n",
       "    <tr style=\"text-align: right;\">\n",
       "      <th></th>\n",
       "      <th>id</th>\n",
       "      <th>gender</th>\n",
       "      <th>age</th>\n",
       "      <th>hypertension</th>\n",
       "      <th>heart_disease</th>\n",
       "      <th>ever_married</th>\n",
       "      <th>work_type</th>\n",
       "      <th>Residence_type</th>\n",
       "      <th>avg_glucose_level</th>\n",
       "      <th>bmi</th>\n",
       "      <th>smoking_status</th>\n",
       "      <th>stroke</th>\n",
       "    </tr>\n",
       "  </thead>\n",
       "  <tbody>\n",
       "    <tr>\n",
       "      <th>0</th>\n",
       "      <td>29502</td>\n",
       "      <td>Female</td>\n",
       "      <td>18.0</td>\n",
       "      <td>0</td>\n",
       "      <td>0</td>\n",
       "      <td>No</td>\n",
       "      <td>Private</td>\n",
       "      <td>Urban</td>\n",
       "      <td>94.19</td>\n",
       "      <td>12.12</td>\n",
       "      <td>smokes</td>\n",
       "      <td>1</td>\n",
       "    </tr>\n",
       "    <tr>\n",
       "      <th>1</th>\n",
       "      <td>38829</td>\n",
       "      <td>Female</td>\n",
       "      <td>82.0</td>\n",
       "      <td>0</td>\n",
       "      <td>0</td>\n",
       "      <td>Yes</td>\n",
       "      <td>Private</td>\n",
       "      <td>Rural</td>\n",
       "      <td>59.32</td>\n",
       "      <td>33.20</td>\n",
       "      <td>smokes</td>\n",
       "      <td>1</td>\n",
       "    </tr>\n",
       "    <tr>\n",
       "      <th>2</th>\n",
       "      <td>40624</td>\n",
       "      <td>Female</td>\n",
       "      <td>37.0</td>\n",
       "      <td>0</td>\n",
       "      <td>0</td>\n",
       "      <td>Yes</td>\n",
       "      <td>Private</td>\n",
       "      <td>Rural</td>\n",
       "      <td>156.70</td>\n",
       "      <td>36.90</td>\n",
       "      <td>smokes</td>\n",
       "      <td>1</td>\n",
       "    </tr>\n",
       "    <tr>\n",
       "      <th>3</th>\n",
       "      <td>72538</td>\n",
       "      <td>Female</td>\n",
       "      <td>41.0</td>\n",
       "      <td>0</td>\n",
       "      <td>0</td>\n",
       "      <td>Yes</td>\n",
       "      <td>Govt_job</td>\n",
       "      <td>Rural</td>\n",
       "      <td>64.06</td>\n",
       "      <td>33.80</td>\n",
       "      <td>smokes</td>\n",
       "      <td>1</td>\n",
       "    </tr>\n",
       "    <tr>\n",
       "      <th>4</th>\n",
       "      <td>35512</td>\n",
       "      <td>Female</td>\n",
       "      <td>70.0</td>\n",
       "      <td>0</td>\n",
       "      <td>0</td>\n",
       "      <td>Yes</td>\n",
       "      <td>Self-employed</td>\n",
       "      <td>Rural</td>\n",
       "      <td>76.34</td>\n",
       "      <td>24.40</td>\n",
       "      <td>formerly smoked</td>\n",
       "      <td>1</td>\n",
       "    </tr>\n",
       "    <tr>\n",
       "      <th>...</th>\n",
       "      <td>...</td>\n",
       "      <td>...</td>\n",
       "      <td>...</td>\n",
       "      <td>...</td>\n",
       "      <td>...</td>\n",
       "      <td>...</td>\n",
       "      <td>...</td>\n",
       "      <td>...</td>\n",
       "      <td>...</td>\n",
       "      <td>...</td>\n",
       "      <td>...</td>\n",
       "      <td>...</td>\n",
       "    </tr>\n",
       "    <tr>\n",
       "      <th>40282</th>\n",
       "      <td>6506</td>\n",
       "      <td>Female</td>\n",
       "      <td>40.0</td>\n",
       "      <td>0</td>\n",
       "      <td>0</td>\n",
       "      <td>Yes</td>\n",
       "      <td>Private</td>\n",
       "      <td>Rural</td>\n",
       "      <td>86.36</td>\n",
       "      <td>36.60</td>\n",
       "      <td>smokes</td>\n",
       "      <td>1</td>\n",
       "    </tr>\n",
       "    <tr>\n",
       "      <th>40283</th>\n",
       "      <td>44210</td>\n",
       "      <td>Male</td>\n",
       "      <td>18.0</td>\n",
       "      <td>0</td>\n",
       "      <td>0</td>\n",
       "      <td>No</td>\n",
       "      <td>Private</td>\n",
       "      <td>Urban</td>\n",
       "      <td>109.06</td>\n",
       "      <td>22.10</td>\n",
       "      <td>smokes</td>\n",
       "      <td>1</td>\n",
       "    </tr>\n",
       "    <tr>\n",
       "      <th>40284</th>\n",
       "      <td>67039</td>\n",
       "      <td>Female</td>\n",
       "      <td>24.0</td>\n",
       "      <td>0</td>\n",
       "      <td>0</td>\n",
       "      <td>No</td>\n",
       "      <td>Private</td>\n",
       "      <td>Urban</td>\n",
       "      <td>141.18</td>\n",
       "      <td>23.30</td>\n",
       "      <td>smokes</td>\n",
       "      <td>1</td>\n",
       "    </tr>\n",
       "    <tr>\n",
       "      <th>40285</th>\n",
       "      <td>22533</td>\n",
       "      <td>Female</td>\n",
       "      <td>77.0</td>\n",
       "      <td>0</td>\n",
       "      <td>0</td>\n",
       "      <td>Yes</td>\n",
       "      <td>Self-employed</td>\n",
       "      <td>Urban</td>\n",
       "      <td>199.71</td>\n",
       "      <td>36.20</td>\n",
       "      <td>formerly smoked</td>\n",
       "      <td>1</td>\n",
       "    </tr>\n",
       "    <tr>\n",
       "      <th>40286</th>\n",
       "      <td>20054</td>\n",
       "      <td>Male</td>\n",
       "      <td>76.0</td>\n",
       "      <td>0</td>\n",
       "      <td>1</td>\n",
       "      <td>Yes</td>\n",
       "      <td>Self-employed</td>\n",
       "      <td>Urban</td>\n",
       "      <td>202.96</td>\n",
       "      <td>31.80</td>\n",
       "      <td>formerly smoked</td>\n",
       "      <td>1</td>\n",
       "    </tr>\n",
       "  </tbody>\n",
       "</table>\n",
       "<p>40287 rows × 12 columns</p>\n",
       "</div>"
      ],
      "text/plain": [
       "          id  gender   age  hypertension  heart_disease ever_married  \\\n",
       "0      29502  Female  18.0             0              0           No   \n",
       "1      38829  Female  82.0             0              0          Yes   \n",
       "2      40624  Female  37.0             0              0          Yes   \n",
       "3      72538  Female  41.0             0              0          Yes   \n",
       "4      35512  Female  70.0             0              0          Yes   \n",
       "...      ...     ...   ...           ...            ...          ...   \n",
       "40282   6506  Female  40.0             0              0          Yes   \n",
       "40283  44210    Male  18.0             0              0           No   \n",
       "40284  67039  Female  24.0             0              0           No   \n",
       "40285  22533  Female  77.0             0              0          Yes   \n",
       "40286  20054    Male  76.0             0              1          Yes   \n",
       "\n",
       "           work_type Residence_type  avg_glucose_level    bmi  \\\n",
       "0            Private          Urban              94.19  12.12   \n",
       "1            Private          Rural              59.32  33.20   \n",
       "2            Private          Rural             156.70  36.90   \n",
       "3           Govt_job          Rural              64.06  33.80   \n",
       "4      Self-employed          Rural              76.34  24.40   \n",
       "...              ...            ...                ...    ...   \n",
       "40282        Private          Rural              86.36  36.60   \n",
       "40283        Private          Urban             109.06  22.10   \n",
       "40284        Private          Urban             141.18  23.30   \n",
       "40285  Self-employed          Urban             199.71  36.20   \n",
       "40286  Self-employed          Urban             202.96  31.80   \n",
       "\n",
       "        smoking_status  stroke  \n",
       "0               smokes       1  \n",
       "1               smokes       1  \n",
       "2               smokes       1  \n",
       "3               smokes       1  \n",
       "4      formerly smoked       1  \n",
       "...                ...     ...  \n",
       "40282           smokes       1  \n",
       "40283           smokes       1  \n",
       "40284           smokes       1  \n",
       "40285  formerly smoked       1  \n",
       "40286  formerly smoked       1  \n",
       "\n",
       "[40287 rows x 12 columns]"
      ]
     },
     "execution_count": 12,
     "metadata": {},
     "output_type": "execute_result"
    }
   ],
   "source": [
    "#questao 4\n",
    "df_questao_4 = df_desafio_final_2.filter(col(\"stroke\") == 1)\n",
    "df_questao_4.toPandas()\n",
    "                                         "
   ]
  },
  {
   "cell_type": "code",
   "execution_count": 14,
   "id": "8099e3bb",
   "metadata": {},
   "outputs": [
    {
     "data": {
      "text/plain": [
       "520"
      ]
     },
     "execution_count": 14,
     "metadata": {},
     "output_type": "execute_result"
    }
   ],
   "source": [
    "#questao 4\n",
    "df_questao_4.filter(col(\"work_type\")== \"children\").count()"
   ]
  },
  {
   "cell_type": "code",
   "execution_count": 15,
   "id": "9ab2acea",
   "metadata": {},
   "outputs": [
    {
     "data": {
      "text/plain": [
       "23711"
      ]
     },
     "execution_count": 15,
     "metadata": {},
     "output_type": "execute_result"
    }
   ],
   "source": [
    "df_questao_4.filter(col(\"work_type\")== \"Private\").count()"
   ]
  },
  {
   "cell_type": "code",
   "execution_count": 21,
   "id": "cf1980d6",
   "metadata": {},
   "outputs": [
    {
     "data": {
      "text/plain": [
       "27594"
      ]
     },
     "execution_count": 21,
     "metadata": {},
     "output_type": "execute_result"
    }
   ],
   "source": [
    "#questao 5\n",
    "df_desafio_final_2.filter(col(\"gender\") == \"Male\").count()"
   ]
  },
  {
   "cell_type": "code",
   "execution_count": 22,
   "id": "3013d57f",
   "metadata": {},
   "outputs": [
    {
     "data": {
      "text/plain": [
       "39530"
      ]
     },
     "execution_count": 22,
     "metadata": {},
     "output_type": "execute_result"
    }
   ],
   "source": [
    "df_desafio_final_2.filter(col(\"gender\") == \"Female\").count()"
   ]
  },
  {
   "cell_type": "code",
   "execution_count": 23,
   "id": "085a9816",
   "metadata": {},
   "outputs": [
    {
     "data": {
      "text/plain": [
       "11"
      ]
     },
     "execution_count": 23,
     "metadata": {},
     "output_type": "execute_result"
    }
   ],
   "source": [
    "df_desafio_final_2.filter(col(\"gender\") == \"Other\").count()"
   ]
  },
  {
   "cell_type": "code",
   "execution_count": 16,
   "id": "3e035c64",
   "metadata": {},
   "outputs": [
    {
     "data": {
      "text/plain": [
       "26848"
      ]
     },
     "execution_count": 16,
     "metadata": {},
     "output_type": "execute_result"
    }
   ],
   "source": [
    "#filtar quem não teve derrame\n",
    "df_questao_hyper = df_desafio_final_2.filter(col(\"stroke\") == 0)\n",
    "df_questao_hyper.count()"
   ]
  },
  {
   "cell_type": "code",
   "execution_count": 17,
   "id": "a5b80acd",
   "metadata": {},
   "outputs": [
    {
     "data": {
      "text/plain": [
       "2200"
      ]
     },
     "execution_count": 17,
     "metadata": {},
     "output_type": "execute_result"
    }
   ],
   "source": [
    "df_questao_hyper.filter(col(\"hypertension\")== 1).count()"
   ]
  },
  {
   "cell_type": "code",
   "execution_count": 18,
   "id": "ba49b7a0",
   "metadata": {},
   "outputs": [
    {
     "data": {
      "text/plain": [
       "24648"
      ]
     },
     "execution_count": 18,
     "metadata": {},
     "output_type": "execute_result"
    }
   ],
   "source": [
    "df_questao_hyper.filter(col(\"hypertension\")== 0).count()"
   ]
  },
  {
   "cell_type": "code",
   "execution_count": 9,
   "id": "e0aad736",
   "metadata": {},
   "outputs": [
    {
     "data": {
      "text/plain": [
       "8817"
      ]
     },
     "execution_count": 9,
     "metadata": {},
     "output_type": "execute_result"
    }
   ],
   "source": [
    "#questao 6\n",
    "df_questao_6 = df_desafio_final_2.filter(col(\"stroke\") == 1)\n",
    "df_questao_6.filter(col(\"hypertension\") == 1).count()"
   ]
  },
  {
   "cell_type": "code",
   "execution_count": 10,
   "id": "f6cef6b4",
   "metadata": {},
   "outputs": [
    {
     "data": {
      "text/plain": [
       "31470"
      ]
     },
     "execution_count": 10,
     "metadata": {},
     "output_type": "execute_result"
    }
   ],
   "source": [
    "df_questao_6.filter(col(\"hypertension\") == 0).count()"
   ]
  },
  {
   "cell_type": "code",
   "execution_count": 25,
   "id": "67b98d80",
   "metadata": {},
   "outputs": [
    {
     "data": {
      "text/plain": [
       "31470"
      ]
     },
     "execution_count": 25,
     "metadata": {},
     "output_type": "execute_result"
    }
   ],
   "source": [
    "#filtrando do dataset completo, hypertenso\n",
    "df_desafio_final_2.filter(col(\"hypertension\") == 1).count()"
   ]
  },
  {
   "cell_type": "code",
   "execution_count": 11,
   "id": "405915ba",
   "metadata": {},
   "outputs": [
    {
     "data": {
      "text/plain": [
       "56118"
      ]
     },
     "execution_count": 11,
     "metadata": {},
     "output_type": "execute_result"
    }
   ],
   "source": [
    "#filtrando dataset completo, hypertenso\n",
    "df_desafio_final_2.filter(col(\"hypertension\") == 0).count()"
   ]
  },
  {
   "cell_type": "code",
   "execution_count": 13,
   "id": "9ac3fabc",
   "metadata": {},
   "outputs": [
    {
     "data": {
      "text/plain": [
       "40287"
      ]
     },
     "execution_count": 13,
     "metadata": {},
     "output_type": "execute_result"
    }
   ],
   "source": [
    "df_questao_6.count()"
   ]
  },
  {
   "cell_type": "code",
   "execution_count": 26,
   "id": "54f62406",
   "metadata": {},
   "outputs": [],
   "source": [
    "#questao 7\n",
    "df_questao_7 = df_questao_6.groupBy(\"age\").count()\n"
   ]
  },
  {
   "cell_type": "code",
   "execution_count": 27,
   "id": "616f0da9",
   "metadata": {},
   "outputs": [
    {
     "name": "stdout",
     "output_type": "stream",
     "text": [
      "+----+-----+\n",
      "| age|count|\n",
      "+----+-----+\n",
      "|79.0| 2916|\n",
      "|78.0| 2279|\n",
      "|80.0| 1858|\n",
      "|81.0| 1738|\n",
      "|82.0| 1427|\n",
      "|77.0|  994|\n",
      "|74.0|  987|\n",
      "|63.0|  942|\n",
      "|76.0|  892|\n",
      "|70.0|  881|\n",
      "|66.0|  848|\n",
      "|75.0|  809|\n",
      "|67.0|  801|\n",
      "|57.0|  775|\n",
      "|73.0|  759|\n",
      "|65.0|  716|\n",
      "|72.0|  709|\n",
      "|68.0|  688|\n",
      "|69.0|  677|\n",
      "|71.0|  667|\n",
      "+----+-----+\n",
      "only showing top 20 rows\n",
      "\n"
     ]
    }
   ],
   "source": [
    "df_questao_7.orderBy(\"count\", ascending = False).show()"
   ]
  },
  {
   "cell_type": "code",
   "execution_count": 28,
   "id": "9856e408",
   "metadata": {},
   "outputs": [
    {
     "data": {
      "text/plain": [
       "28938"
      ]
     },
     "execution_count": 28,
     "metadata": {},
     "output_type": "execute_result"
    }
   ],
   "source": [
    "#questao 8\n",
    "df_questao_6.filter(col(\"age\") > 50).count()"
   ]
  },
  {
   "cell_type": "code",
   "execution_count": 29,
   "id": "bd661d15",
   "metadata": {},
   "outputs": [
    {
     "name": "stdout",
     "output_type": "stream",
     "text": [
      "+----------------------+\n",
      "|avg(avg_glucose_level)|\n",
      "+----------------------+\n",
      "|    119.95307046938272|\n",
      "+----------------------+\n",
      "\n"
     ]
    }
   ],
   "source": [
    "#questao 9 tiveram\n",
    "df_questao_6.agg(mean(\"avg_glucose_level\")).show()"
   ]
  },
  {
   "cell_type": "code",
   "execution_count": 30,
   "id": "72e1a8b3",
   "metadata": {},
   "outputs": [],
   "source": [
    "#questao 9 não tiveram\n",
    "df_questao_9 = df_desafio_final_2.filter(col(\"stroke\") == 0)"
   ]
  },
  {
   "cell_type": "code",
   "execution_count": 31,
   "id": "550c781b",
   "metadata": {},
   "outputs": [
    {
     "name": "stdout",
     "output_type": "stream",
     "text": [
      "+----------------------+\n",
      "|avg(avg_glucose_level)|\n",
      "+----------------------+\n",
      "|    103.60273130214506|\n",
      "+----------------------+\n",
      "\n"
     ]
    }
   ],
   "source": [
    "df_questao_9.agg(mean(\"avg_glucose_level\")).show()"
   ]
  },
  {
   "cell_type": "code",
   "execution_count": 32,
   "id": "f79448d2",
   "metadata": {},
   "outputs": [
    {
     "name": "stdout",
     "output_type": "stream",
     "text": [
      "+-----------------+\n",
      "|         avg(BMI)|\n",
      "+-----------------+\n",
      "|29.81679462676787|\n",
      "+-----------------+\n",
      "\n"
     ]
    }
   ],
   "source": [
    "#questao 10\n",
    "df_questao_6.agg(mean(\"BMI\")).show()"
   ]
  },
  {
   "cell_type": "code",
   "execution_count": 33,
   "id": "1d81ad44",
   "metadata": {},
   "outputs": [
    {
     "name": "stdout",
     "output_type": "stream",
     "text": [
      "+-----------------+\n",
      "|         avg(BMI)|\n",
      "+-----------------+\n",
      "|27.85979305534047|\n",
      "+-----------------+\n",
      "\n"
     ]
    }
   ],
   "source": [
    "df_questao_9.agg(mean(\"BMI\")).show()"
   ]
  },
  {
   "cell_type": "code",
   "execution_count": 34,
   "id": "fb278822",
   "metadata": {},
   "outputs": [],
   "source": [
    "#questao 11\n",
    "df_questao_11 = df_desafio_final_2.withColumn(\"extra\",rand())"
   ]
  },
  {
   "cell_type": "code",
   "execution_count": 35,
   "id": "f633a8bc",
   "metadata": {},
   "outputs": [
    {
     "name": "stdout",
     "output_type": "stream",
     "text": [
      "+-------+--------------------+\n",
      "|summary|               extra|\n",
      "+-------+--------------------+\n",
      "|  count|               67135|\n",
      "|   mean| 0.49941131852003096|\n",
      "| stddev| 0.28921012811095403|\n",
      "|    min|1.587738534658545E-5|\n",
      "|    max|  0.9999937093506991|\n",
      "+-------+--------------------+\n",
      "\n"
     ]
    }
   ],
   "source": [
    "df_questao_11.describe(\"extra\").show()"
   ]
  },
  {
   "cell_type": "code",
   "execution_count": null,
   "id": "30dc5c06",
   "metadata": {},
   "outputs": [],
   "source": []
  }
 ],
 "metadata": {
  "kernelspec": {
   "display_name": "Python 3",
   "language": "python",
   "name": "python3"
  },
  "language_info": {
   "codemirror_mode": {
    "name": "ipython",
    "version": 3
   },
   "file_extension": ".py",
   "mimetype": "text/x-python",
   "name": "python",
   "nbconvert_exporter": "python",
   "pygments_lexer": "ipython3",
   "version": "3.8.8"
  }
 },
 "nbformat": 4,
 "nbformat_minor": 5
}
